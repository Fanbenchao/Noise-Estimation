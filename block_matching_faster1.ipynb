{
 "cells": [
  {
   "cell_type": "code",
   "execution_count": 1,
   "metadata": {},
   "outputs": [],
   "source": [
    "from PIL import Image\n",
    "import os\n",
    "import numpy as np\n",
    "import time\n",
    "from scipy.io import loadmat \n",
    "from matplotlib import pyplot as plt\n",
    "import cv2 as cv"
   ]
  },
  {
   "cell_type": "code",
   "execution_count": 2,
   "metadata": {},
   "outputs": [],
   "source": [
    "def block_matching(img_clean,img_noisy):\n",
    "    S = 5\n",
    "    f = 7\n",
    "    f2 = f**2\n",
    "    nv = 16\n",
    "    s = 7\n",
    "    if img_clean.ndim < 3:\n",
    "        img = img[:,:,np.newaxis]\n",
    "        img_noisy = img_noisy[:,:,np.newaxis]\n",
    "    img = np.pad(img_clean,((3,3),(3,3),(0,0)),'edge')\n",
    "    img_noisy = np.pad(img_noisy,((3,3),(3,3),(0,0)),'edge')\n",
    "    N = img.shape[0]-f+1\n",
    "    M = img.shape[1]-f+1\n",
    "    C = img.shape[2]\n",
    "    r = np.arange(0,N,s)\n",
    "    c = np.arange(0,M,s)\n",
    "    L = N*M\n",
    "    X = np.zeros((f2,L,C))\n",
    "    X_noisy = np.zeros((f2,L,C))\n",
    "    k = -1\n",
    "    for i in range(f):\n",
    "        for j in range(f):\n",
    "            k = k+1\n",
    "            blk = img[i:N+i,j:M+j,:]\n",
    "            X[k,:,:] = blk.reshape(-1,C)\n",
    "            blk1 = img_noisy[i:N+i,j:M+j,:]\n",
    "            X_noisy[k,:,:] = blk1.reshape(-1,C)\n",
    "    I = np.arange(L)\n",
    "    I = I.reshape(N,M)\n",
    "    pos_arr = np.zeros((nv,N*M,C),dtype = 'int64')\n",
    "    X = X.swapaxes(0,1)\n",
    "    X_noisy = X_noisy.swapaxes(0,1)\n",
    "    i = 0\n",
    "    block = {}\n",
    "    for row in r:\n",
    "        for col in c:\n",
    "            index = row*M+col\n",
    "            rmin = max(row-3,0)\n",
    "            rmax = min(row+4,N)\n",
    "            cmin = max(col-3,0)\n",
    "            cmax = min(col+4,M)\n",
    "            block[str(index)] = I[rmin:rmax,cmin:cmax].reshape(-1)\n",
    "    for row in r:\n",
    "        for col in c:\n",
    "            i = i+1\n",
    "            if i%10000 == 0:\n",
    "                print(str(i)+'/'+str(M*N))\n",
    "            off = row*M+col\n",
    "            rmin = max(row-S*f,0)\n",
    "            rmax = min(row+S*f+1,N)\n",
    "            cmin = max(col-S*f,0)\n",
    "            cmax = min(col+S*f+1,M)\n",
    "            idx = I[rmin:rmax:s,cmin:cmax:s]\n",
    "            idx = idx.reshape(-1)\n",
    "            B = X[idx,:,:]\n",
    "            v = X[off,:,:]\n",
    "            dis = np.linalg.norm((B-v),axis = 1)/f2\n",
    "            ind = np.argsort(dis,axis = 0)\n",
    "            indc = idx[ind[:16,:]]\n",
    "            pos_arr[:,block[str(off)],:] = indc[:,np.newaxis,:]\n",
    "    return pos_arr.swapaxes(0,1),X,X_noisy,block"
   ]
  },
  {
   "cell_type": "code",
   "execution_count": 3,
   "metadata": {},
   "outputs": [],
   "source": [
    "img_path = '/home/lupin/G_P/0001_001_S6_00100_00060_3200_L/001.png'\n",
    "img_noisy_path = '/home/lupin/G_P/0001_001_S6_00100_00060_3200_L/002.png'\n",
    "with open(img_path, 'rb') as f:\n",
    "    img = Image.open(f)\n",
    "    img = np.array(img)\n",
    "with open(img_noisy_path,'rb') as f:\n",
    "    img_noisy = Image.open(f)\n",
    "    img_noisy = np.array(img_noisy)"
   ]
  },
  {
   "cell_type": "code",
   "execution_count": 5,
   "metadata": {},
   "outputs": [],
   "source": [
    "# img = img[:,:,0]\n",
    "# img_noisy = img_noisy[:,:,0]\n",
    "N,M = img.shape\n",
    "img1 = img[0:N:2,0:M:2]\n",
    "img_noisy1 = img_noisy[0:N:2,0:M:2]\n",
    "img2 = img[0:N:2,1:M:2]\n",
    "img_noisy2 = img_noisy[0:N:2,1:M:2]\n",
    "img3 = img[1:N:2,0:M:2]\n",
    "img_noisy3 = img_noisy[1:N:2,0:M:2]\n",
    "img4 = img[1:N:2,1:M:2]\n",
    "img_noisy4 = img_noisy[1:N:2,1:M:2]"
   ]
  },
  {
   "cell_type": "code",
   "execution_count": 6,
   "metadata": {},
   "outputs": [],
   "source": [
    "img1 = img1[:,:,np.newaxis]\n",
    "img2 = img2[:,:,np.newaxis]\n",
    "img3 = img3[:,:,np.newaxis]\n",
    "img4 = img4[:,:,np.newaxis]\n",
    "img_noisy1 = img_noisy1[:,:,np.newaxis]\n",
    "img_noisy2 = img_noisy2[:,:,np.newaxis]\n",
    "img_noisy3 = img_noisy3[:,:,np.newaxis]\n",
    "img_noisy4 = img_noisy4[:,:,np.newaxis]\n",
    "my_test = np.concatenate((img1,img2,img3,img4),axis = -1)\n",
    "my_test_noisy = np.concatenate((img_noisy1,img_noisy2,img_noisy3,img_noisy4),axis = -1)"
   ]
  },
  {
   "cell_type": "code",
   "execution_count": 7,
   "metadata": {},
   "outputs": [
    {
     "name": "stdout",
     "output_type": "stream",
     "text": [
      "10000/3996000\n",
      "20000/3996000\n",
      "30000/3996000\n",
      "40000/3996000\n",
      "50000/3996000\n",
      "60000/3996000\n",
      "70000/3996000\n",
      "80000/3996000\n"
     ]
    }
   ],
   "source": [
    "pos_arr,X,X_noisy,block= block_matching(my_test,my_test_noisy)"
   ]
  },
  {
   "cell_type": "code",
   "execution_count": null,
   "metadata": {},
   "outputs": [],
   "source": [
    "# index = np.array([])\n",
    "# for i in block.values():\n",
    "#     index = np.concatenate((index,i))\n",
    "# repeat = np.unique(index)"
   ]
  },
  {
   "cell_type": "code",
   "execution_count": null,
   "metadata": {},
   "outputs": [],
   "source": [
    "noisy = (X_noisy-X)/255\n",
    "H,W,C= my_test.shape\n",
    "block_noisy_std = np.zeros((H*W,C))\n",
    "block_noisy_mean = np.zeros((H*W,C))\n",
    "for key,value in block.items():\n",
    "    for i in range(C): \n",
    "        block_noisy_std[value,i] = np.std(noisy[pos_arr[int(key),:,i],:,i])\n",
    "        block_noisy_mean[value,i] = np.mean(noisy[pos_arr[int(key),:,i],:,i])\n",
    "block_noisy_std = block_noisy_std.reshape(H,W,C)\n",
    "block_noisy_mean = block_noisy_mean.reshape(H,W,C)\n",
    "new_img = my_test/255 + np.random.normal(block_noisy_mean,block_noisy_std,block_noisy_std.shape)\n",
    "if new_img.min() < 0:\n",
    "    low_clip = 0.0\n",
    "else:\n",
    "    low_clip = new_img.min()\n",
    "if new_img.max() >1:\n",
    "    high_clip = 1.0\n",
    "else: \n",
    "    high_clip = new_img.max()\n",
    "new_img = np.clip(new_img, low_clip, high_clip)\n",
    "new_img = np.uint8(new_img*255)"
   ]
  },
  {
   "cell_type": "code",
   "execution_count": null,
   "metadata": {},
   "outputs": [],
   "source": [
    "new_img1 = Image.fromarray(new_img[:,:,0].astype('uint8'))\n",
    "new_img"
   ]
  },
  {
   "cell_type": "code",
   "execution_count": null,
   "metadata": {},
   "outputs": [],
   "source": [
    "test1 = Image.fromarray(my_test_noisy[:,:,0].astype('uint8'))\n",
    "test"
   ]
  },
  {
   "cell_type": "code",
   "execution_count": null,
   "metadata": {},
   "outputs": [],
   "source": [
    "#new_img = np.array(new_img)\n",
    "img_test1 = new_img\n",
    "img_test2 = my_test_noisy\n",
    "img_test2 = img_test2\n",
    "img_test = np.concatenate((img_test1,img_test2),axis = -1)"
   ]
  },
  {
   "cell_type": "code",
   "execution_count": null,
   "metadata": {},
   "outputs": [],
   "source": [
    "def image_hist(image,img_path): #画三通道图像的直方图\n",
    "    color = (\"blue\", \"green\",'black','red','yellow','pink','gray','orange')\n",
    "    #画笔颜色的值可以为大写或小写或只写首字母或大小写混合\n",
    "    for i, color in enumerate(color):\n",
    "        hist = cv.calcHist([image], [i], None, [256], [0, 256])\n",
    "        plt.plot(hist, color=color)\n",
    "        plt.xlim([0, 256])\n",
    "    plt.savefig(img_path)\n",
    "    plt.show()"
   ]
  },
  {
   "cell_type": "code",
   "execution_count": null,
   "metadata": {},
   "outputs": [],
   "source": [
    "img_dis_path = ''\n",
    "image_hist(img_test,img_dis_path)"
   ]
  },
  {
   "cell_type": "code",
   "execution_count": null,
   "metadata": {},
   "outputs": [],
   "source": [
    "#new_img = np.array(new_img)\n",
    "new_img = new_img.astype('int8')\n",
    "my_test_noisy = my_test_noisy.astype('int8')\n",
    "my_test = my_test.astype('int8')\n",
    "noisy_gener = new_img - my_test\n",
    "noisy_true = my_test_noisy - my_test"
   ]
  },
  {
   "cell_type": "code",
   "execution_count": null,
   "metadata": {},
   "outputs": [],
   "source": [
    "plt.figure(\"noisy_distribution1\")\n",
    "noisy_gener1 = noisy_gener[:,:,3].flatten()\n",
    "plt.hist(noisy_gener1, bins=512, normed=1,facecolor='r',edgecolor='r')\n",
    "noisy_true1 = noisy_true[:,:,3].flatten()\n",
    "plt.hist(noisy_true1, bins=512, normed=1, facecolor='g',edgecolor='g')\n",
    "noisy_dis_path = ''\n",
    "plt.savefig(noisy_dis_path)\n",
    "plt.show()"
   ]
  },
  {
   "cell_type": "code",
   "execution_count": null,
   "metadata": {},
   "outputs": [],
   "source": []
  }
 ],
 "metadata": {
  "kernelspec": {
   "display_name": "Python 3",
   "language": "python",
   "name": "python3"
  },
  "language_info": {
   "codemirror_mode": {
    "name": "ipython",
    "version": 3
   },
   "file_extension": ".py",
   "mimetype": "text/x-python",
   "name": "python",
   "nbconvert_exporter": "python",
   "pygments_lexer": "ipython3",
   "version": "3.6.9"
  }
 },
 "nbformat": 4,
 "nbformat_minor": 4
}
