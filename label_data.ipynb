{
 "cells": [
  {
   "cell_type": "code",
   "execution_count": null,
   "metadata": {},
   "outputs": [],
   "source": [
    "from PIL import Image\n",
    "import os\n",
    "import numpy as np\n",
    "from matplotlib import pyplot as plt\n",
    "import time\n",
    "import scipy.io as scio\n",
    "from block_matching_faster import *\n",
    "from generate_img import *\n",
    "from img_clip_merge import *"
   ]
  },
  {
   "cell_type": "code",
   "execution_count": null,
   "metadata": {},
   "outputs": [],
   "source": [
    "main_path = '/home/lupin/G_P'\n",
    "img_list = os.listdir(main_path)"
   ]
  },
  {
   "cell_type": "code",
   "execution_count": null,
   "metadata": {},
   "outputs": [],
   "source": [
    "i = 0\n",
    "for path in img_list:\n",
    "    out_path = '/'.join([main_path,path])\n",
    "    img_path = '/'.join([out_path,'001.png'])\n",
    "    img_noisy_path = '/'.join([out_path,'002.png'])\n",
    "    i = i+1\n",
    "    print(str(i)+'/'+str(len(img_list))+':'+out_path)\n",
    "    with open(img_path, 'rb') as f:\n",
    "        img = Image.open(f)\n",
    "        img = np.array(img)\n",
    "    with open(img_noisy_path,'rb') as f:\n",
    "        img_noisy = Image.open(f)\n",
    "        img_noisy = np.array(img_noisy)\n",
    "    start = time.time()\n",
    "    H,W = img.shape\n",
    "    img_merge,img_noisy_merge = img_clip_merge(img,img_noisy)\n",
    "    pos_arr,X,X_noisy,block= block_matching(img_merge,img_noisy_merge)\n",
    "    new_img,block_noisy_std,block_noisy_mean = generate_img(pos_arr,X,X_noisy,block,img_merge)\n",
    "    new_img,block_noisy_std,block_noisy_mean = merge(new_img,block_noisy_std,block_noisy_mean,(H,W))\n",
    "    new_img = Image.fromarray(new_img.astype('uint8'))\n",
    "    new_img.save('/'.join([out_path,'003.png']))\n",
    "    std_mean = {'noisy_std':block_noisy_std,'noisy_mean':block_noisy_mean}\n",
    "    scio.savemat('/'.join([out_path,'std_mean.mat']),std_mean)\n",
    "    end = time.time()\n",
    "    print('the '+str(i)+'th picture process: '+str(end-start)+'s')"
   ]
  },
  {
   "cell_type": "code",
   "execution_count": null,
   "metadata": {},
   "outputs": [],
   "source": [
    "# import cv2 as cv\n",
    "# img_test1 = new_img\n",
    "# img_test2 = img_noisy_merge\n",
    "# img_test = np.concatenate((img_test1,img_test2),axis = -1)\n",
    "# def image_hist(image): #画三通道图像的直方图\n",
    "#     color = (\"blue\", \"green\",'black','red','yellow','pink','gray','orange')\n",
    "#     #画笔颜色的值可以为大写或小写或只写首字母或大小写混合\n",
    "#     for i, color in enumerate(color):\n",
    "#         hist = cv.calcHist([image], [i], None, [256], [0, 256])\n",
    "#         plt.plot(hist, color=color)\n",
    "#         plt.xlim([0, 256])\n",
    "# #     plt.savefig(img_path)\n",
    "#     plt.show()\n",
    "    \n",
    "# image_hist(img_test)"
   ]
  },
  {
   "cell_type": "code",
   "execution_count": null,
   "metadata": {},
   "outputs": [],
   "source": [
    "# new_img = new_img.astype('int8')\n",
    "# img_noisy_merge = img_noisy_merge.astype('int8')\n",
    "# img_merge = img_merge.astype('int8')\n",
    "# noisy_gener = new_img - img_merge\n",
    "# noisy_true = img_noisy_merge - img_merge\n",
    "# plt.figure(\"noisy_distribution1\")\n",
    "# noisy_gener1 = noisy_gener[:,:,3].flatten()\n",
    "# plt.hist(noisy_gener1, bins=4096, normed=1,facecolor='r',edgecolor='r')\n",
    "# noisy_true1 = noisy_true[:,:,3].flatten()\n",
    "# plt.hist(noisy_true1, bins= 4096, normed=1, facecolor='g',edgecolor='g')\n",
    "# # noisy_dis_path = 'whole_noisy_dis_step7_4.png'\n",
    "# # plt.savefig(noisy_dis_path)\n",
    "# plt.show()"
   ]
  },
  {
   "cell_type": "code",
   "execution_count": null,
   "metadata": {},
   "outputs": [],
   "source": [
    "with open('./003.png', 'rb') as f:\n",
    "    img1 = Image.open(f)\n",
    "    img1 = np.array(img1)\n",
    "with open('./004.png','rb') as f:\n",
    "    img2 = Image.open(f)\n",
    "    img2 = np.array(img2)"
   ]
  },
  {
   "cell_type": "code",
   "execution_count": null,
   "metadata": {},
   "outputs": [],
   "source": [
    "img1.shape"
   ]
  },
  {
   "cell_type": "code",
   "execution_count": null,
   "metadata": {},
   "outputs": [],
   "source": [
    "new_img1 = Image.fromarray(img1.astype('uint8'))"
   ]
  },
  {
   "cell_type": "code",
   "execution_count": null,
   "metadata": {},
   "outputs": [],
   "source": [
    "new_img1"
   ]
  },
  {
   "cell_type": "code",
   "execution_count": null,
   "metadata": {},
   "outputs": [],
   "source": [
    "new_img2 = Image.fromarray(img2.astype('uint8'))\n",
    "new_img2"
   ]
  },
  {
   "cell_type": "code",
   "execution_count": null,
   "metadata": {},
   "outputs": [],
   "source": []
  }
 ],
 "metadata": {
  "kernelspec": {
   "display_name": "Python 3",
   "language": "python",
   "name": "python3"
  },
  "language_info": {
   "codemirror_mode": {
    "name": "ipython",
    "version": 3
   },
   "file_extension": ".py",
   "mimetype": "text/x-python",
   "name": "python",
   "nbconvert_exporter": "python",
   "pygments_lexer": "ipython3",
   "version": "3.6.9"
  }
 },
 "nbformat": 4,
 "nbformat_minor": 4
}
